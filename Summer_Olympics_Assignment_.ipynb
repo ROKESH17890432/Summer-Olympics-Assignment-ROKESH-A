{
  "nbformat": 4,
  "nbformat_minor": 0,
  "metadata": {
    "colab": {
      "name": "Summer Olympics Assingment .ipynb",
      "provenance": [],
      "collapsed_sections": []
    },
    "kernelspec": {
      "name": "python3",
      "display_name": "Python 3"
    },
    "language_info": {
      "name": "python"
    }
  },
  "cells": [
    {
      "cell_type": "markdown",
      "metadata": {
        "id": "YV50SnR8MN-4"
      },
      "source": [
        "**Summer Olympics Data Analysis Assignment**"
      ]
    },
    {
      "cell_type": "code",
      "metadata": {
        "id": "tcOew067MlnA"
      },
      "source": [
        "import pandas as pd "
      ],
      "execution_count": 3,
      "outputs": []
    },
    {
      "cell_type": "code",
      "metadata": {
        "id": "_-mg_hxZRf5q"
      },
      "source": [
        "df = pd.read_csv(\"summer.csv\")"
      ],
      "execution_count": 4,
      "outputs": []
    },
    {
      "cell_type": "code",
      "metadata": {
        "colab": {
          "base_uri": "https://localhost:8080/",
          "height": 417
        },
        "id": "HCjz7ehsSPNQ",
        "outputId": "10dfb872-7dd3-4099-cae8-1c16a86c5a02"
      },
      "source": [
        "df"
      ],
      "execution_count": 5,
      "outputs": [
        {
          "output_type": "execute_result",
          "data": {
            "text/html": [
              "<div>\n",
              "<style scoped>\n",
              "    .dataframe tbody tr th:only-of-type {\n",
              "        vertical-align: middle;\n",
              "    }\n",
              "\n",
              "    .dataframe tbody tr th {\n",
              "        vertical-align: top;\n",
              "    }\n",
              "\n",
              "    .dataframe thead th {\n",
              "        text-align: right;\n",
              "    }\n",
              "</style>\n",
              "<table border=\"1\" class=\"dataframe\">\n",
              "  <thead>\n",
              "    <tr style=\"text-align: right;\">\n",
              "      <th></th>\n",
              "      <th>Year</th>\n",
              "      <th>City</th>\n",
              "      <th>Sport</th>\n",
              "      <th>Discipline</th>\n",
              "      <th>Athlete</th>\n",
              "      <th>Country</th>\n",
              "      <th>Gender</th>\n",
              "      <th>Event</th>\n",
              "      <th>Medal</th>\n",
              "    </tr>\n",
              "  </thead>\n",
              "  <tbody>\n",
              "    <tr>\n",
              "      <th>0</th>\n",
              "      <td>1896</td>\n",
              "      <td>Athens</td>\n",
              "      <td>Aquatics</td>\n",
              "      <td>Swimming</td>\n",
              "      <td>HAJOS, Alfred</td>\n",
              "      <td>HUN</td>\n",
              "      <td>Men</td>\n",
              "      <td>100M Freestyle</td>\n",
              "      <td>Gold</td>\n",
              "    </tr>\n",
              "    <tr>\n",
              "      <th>1</th>\n",
              "      <td>1896</td>\n",
              "      <td>Athens</td>\n",
              "      <td>Aquatics</td>\n",
              "      <td>Swimming</td>\n",
              "      <td>HERSCHMANN, Otto</td>\n",
              "      <td>AUT</td>\n",
              "      <td>Men</td>\n",
              "      <td>100M Freestyle</td>\n",
              "      <td>Silver</td>\n",
              "    </tr>\n",
              "    <tr>\n",
              "      <th>2</th>\n",
              "      <td>1896</td>\n",
              "      <td>Athens</td>\n",
              "      <td>Aquatics</td>\n",
              "      <td>Swimming</td>\n",
              "      <td>DRIVAS, Dimitrios</td>\n",
              "      <td>GRE</td>\n",
              "      <td>Men</td>\n",
              "      <td>100M Freestyle For Sailors</td>\n",
              "      <td>Bronze</td>\n",
              "    </tr>\n",
              "    <tr>\n",
              "      <th>3</th>\n",
              "      <td>1896</td>\n",
              "      <td>Athens</td>\n",
              "      <td>Aquatics</td>\n",
              "      <td>Swimming</td>\n",
              "      <td>MALOKINIS, Ioannis</td>\n",
              "      <td>GRE</td>\n",
              "      <td>Men</td>\n",
              "      <td>100M Freestyle For Sailors</td>\n",
              "      <td>Gold</td>\n",
              "    </tr>\n",
              "    <tr>\n",
              "      <th>4</th>\n",
              "      <td>1896</td>\n",
              "      <td>Athens</td>\n",
              "      <td>Aquatics</td>\n",
              "      <td>Swimming</td>\n",
              "      <td>CHASAPIS, Spiridon</td>\n",
              "      <td>GRE</td>\n",
              "      <td>Men</td>\n",
              "      <td>100M Freestyle For Sailors</td>\n",
              "      <td>Silver</td>\n",
              "    </tr>\n",
              "    <tr>\n",
              "      <th>...</th>\n",
              "      <td>...</td>\n",
              "      <td>...</td>\n",
              "      <td>...</td>\n",
              "      <td>...</td>\n",
              "      <td>...</td>\n",
              "      <td>...</td>\n",
              "      <td>...</td>\n",
              "      <td>...</td>\n",
              "      <td>...</td>\n",
              "    </tr>\n",
              "    <tr>\n",
              "      <th>31160</th>\n",
              "      <td>2012</td>\n",
              "      <td>London</td>\n",
              "      <td>Wrestling</td>\n",
              "      <td>Wrestling Freestyle</td>\n",
              "      <td>JANIKOWSKI, Damian</td>\n",
              "      <td>POL</td>\n",
              "      <td>Men</td>\n",
              "      <td>Wg 84 KG</td>\n",
              "      <td>Bronze</td>\n",
              "    </tr>\n",
              "    <tr>\n",
              "      <th>31161</th>\n",
              "      <td>2012</td>\n",
              "      <td>London</td>\n",
              "      <td>Wrestling</td>\n",
              "      <td>Wrestling Freestyle</td>\n",
              "      <td>REZAEI, Ghasem Gholamreza</td>\n",
              "      <td>IRI</td>\n",
              "      <td>Men</td>\n",
              "      <td>Wg 96 KG</td>\n",
              "      <td>Gold</td>\n",
              "    </tr>\n",
              "    <tr>\n",
              "      <th>31162</th>\n",
              "      <td>2012</td>\n",
              "      <td>London</td>\n",
              "      <td>Wrestling</td>\n",
              "      <td>Wrestling Freestyle</td>\n",
              "      <td>TOTROV, Rustam</td>\n",
              "      <td>RUS</td>\n",
              "      <td>Men</td>\n",
              "      <td>Wg 96 KG</td>\n",
              "      <td>Silver</td>\n",
              "    </tr>\n",
              "    <tr>\n",
              "      <th>31163</th>\n",
              "      <td>2012</td>\n",
              "      <td>London</td>\n",
              "      <td>Wrestling</td>\n",
              "      <td>Wrestling Freestyle</td>\n",
              "      <td>ALEKSANYAN, Artur</td>\n",
              "      <td>ARM</td>\n",
              "      <td>Men</td>\n",
              "      <td>Wg 96 KG</td>\n",
              "      <td>Bronze</td>\n",
              "    </tr>\n",
              "    <tr>\n",
              "      <th>31164</th>\n",
              "      <td>2012</td>\n",
              "      <td>London</td>\n",
              "      <td>Wrestling</td>\n",
              "      <td>Wrestling Freestyle</td>\n",
              "      <td>LIDBERG, Jimmy</td>\n",
              "      <td>SWE</td>\n",
              "      <td>Men</td>\n",
              "      <td>Wg 96 KG</td>\n",
              "      <td>Bronze</td>\n",
              "    </tr>\n",
              "  </tbody>\n",
              "</table>\n",
              "<p>31165 rows × 9 columns</p>\n",
              "</div>"
            ],
            "text/plain": [
              "       Year    City      Sport  ... Gender                       Event   Medal\n",
              "0      1896  Athens   Aquatics  ...    Men              100M Freestyle    Gold\n",
              "1      1896  Athens   Aquatics  ...    Men              100M Freestyle  Silver\n",
              "2      1896  Athens   Aquatics  ...    Men  100M Freestyle For Sailors  Bronze\n",
              "3      1896  Athens   Aquatics  ...    Men  100M Freestyle For Sailors    Gold\n",
              "4      1896  Athens   Aquatics  ...    Men  100M Freestyle For Sailors  Silver\n",
              "...     ...     ...        ...  ...    ...                         ...     ...\n",
              "31160  2012  London  Wrestling  ...    Men                    Wg 84 KG  Bronze\n",
              "31161  2012  London  Wrestling  ...    Men                    Wg 96 KG    Gold\n",
              "31162  2012  London  Wrestling  ...    Men                    Wg 96 KG  Silver\n",
              "31163  2012  London  Wrestling  ...    Men                    Wg 96 KG  Bronze\n",
              "31164  2012  London  Wrestling  ...    Men                    Wg 96 KG  Bronze\n",
              "\n",
              "[31165 rows x 9 columns]"
            ]
          },
          "metadata": {},
          "execution_count": 5
        }
      ]
    },
    {
      "cell_type": "markdown",
      "metadata": {
        "id": "sOKQrI1cMW49"
      },
      "source": [
        "**1. In how many cities Summer Olympics is held so far?**"
      ]
    },
    {
      "cell_type": "code",
      "metadata": {
        "id": "PpiKuzGVMZEx",
        "colab": {
          "base_uri": "https://localhost:8080/"
        },
        "outputId": "4dd90ef8-dcdd-475a-83ad-5e4d7470e059"
      },
      "source": [
        "for City in df[\"City\"].unique():\n",
        "  print(City, \":\" ,len(df[df[\"City\"] == City]))\n",
        "print(\"***************************************************************************\")\n",
        "print(\"In how many cities Summer Olympics is held so far : \",len(df[\"City\"].unique()))\n",
        "print(\"***************************************************************************\")\n"
      ],
      "execution_count": 289,
      "outputs": [
        {
          "output_type": "stream",
          "name": "stdout",
          "text": [
            "Athens : 2149\n",
            "Paris : 1396\n",
            "St Louis : 470\n",
            "London : 3567\n",
            "Stockholm : 885\n",
            "Antwerp : 1298\n",
            "Amsterdam : 710\n",
            "Los Angeles : 2074\n",
            "Berlin : 875\n",
            "Helsinki : 889\n",
            "Melbourne / Stockholm : 885\n",
            "Rome : 882\n",
            "Tokyo : 1010\n",
            "Mexico : 1031\n",
            "Munich : 1185\n",
            "Montreal : 1305\n",
            "Moscow : 1387\n",
            "Seoul : 1546\n",
            "Barcelona : 1705\n",
            "Atlanta : 1859\n",
            "Sydney : 2015\n",
            "Beijing : 2042\n",
            "***************************************************************************\n",
            "In how many cities Summer Olympics is held so far :  22\n",
            "***************************************************************************\n"
          ]
        }
      ]
    },
    {
      "cell_type": "markdown",
      "metadata": {
        "id": "J4PxgdYeMZrl"
      },
      "source": [
        "**2. Which sport is having most number of Gold Medals so far? (Top 5)**"
      ]
    },
    {
      "cell_type": "code",
      "metadata": {
        "id": "z9uPZxYNJ1Qr",
        "colab": {
          "base_uri": "https://localhost:8080/",
          "height": 693
        },
        "outputId": "cb3966ae-90e3-40c2-e92c-074fe818fc2e"
      },
      "source": [
        "data = []\n",
        "for Medal in df[\"Sport\"].unique():\n",
        "  data.append((Medal , len(df[df[\"Sport\"] == Medal ][df[\"Medal\"] == \"Gold\"])))\n",
        "data = pd.DataFrame(data,columns = [\"Sport\",\"Medal\"])\n",
        "data = data.sort_values(by = \"Medal\",ascending = False).head()\n",
        "print(\"*********************************************************************************\")\n",
        "print(\"*************Which sport is having most number of Gold Medals so far*************\\n\",data)\n",
        "print(\"*********************************************************************************\")\n",
        "data.plot(x = \"Sport\",y = \"Medal\",kind = \"bar\" , figsize = (10,7))"
      ],
      "execution_count": 291,
      "outputs": [
        {
          "output_type": "stream",
          "name": "stderr",
          "text": [
            "/usr/local/lib/python3.7/dist-packages/ipykernel_launcher.py:3: UserWarning: Boolean Series key will be reindexed to match DataFrame index.\n",
            "  This is separate from the ipykernel package so we can avoid doing imports until\n"
          ]
        },
        {
          "output_type": "stream",
          "name": "stdout",
          "text": [
            "*********************************************************************************\n",
            "*************Which sport is having most number of Gold Medals so far*************\n",
            "          Sport  Medal\n",
            "0     Aquatics   1421\n",
            "1    Athletics   1215\n",
            "17      Rowing    890\n",
            "4   Gymnastics    820\n",
            "3      Fencing    552\n",
            "*********************************************************************************\n"
          ]
        },
        {
          "output_type": "execute_result",
          "data": {
            "text/plain": [
              "<matplotlib.axes._subplots.AxesSubplot at 0x7fa39cba5710>"
            ]
          },
          "metadata": {},
          "execution_count": 291
        },
        {
          "output_type": "display_data",
          "data": {
            "image/png": "[encoded data removed]",
            "text/plain": [
              "<Figure size 720x504 with 1 Axes>"
            ]
          },
          "metadata": {
            "needs_background": "light"
          }
        }
      ]
    },
    {
      "cell_type": "markdown",
      "metadata": {
        "id": "pRI-t5kSMwEe"
      },
      "source": [
        "**3. Which sport is having most number of medals so far? (Top 5)**"
      ]
    },
    {
      "cell_type": "code",
      "metadata": {
        "id": "Ub4Ye30UM6TW",
        "colab": {
          "base_uri": "https://localhost:8080/",
          "height": 659
        },
        "outputId": "10857c11-6046-4c5c-8856-c6868246c60a"
      },
      "source": [
        "data = []\n",
        "for Medal in df[\"Sport\"].unique():\n",
        "  data.append((Medal , len(df[df[\"Sport\"] == Medal ])))\n",
        "data = pd.DataFrame(data,columns = [\"Sport\",\"Medal\"])\n",
        "data = data.sort_values(by = \"Medal\",ascending = False).head()\n",
        "print(\"****************************************************************************\")\n",
        "print(\"*************Which sport is having most number of medals so far*************\\n\",data)\n",
        "print(\"****************************************************************************\")\n",
        "data.plot(x = \"Sport\",y = \"Medal\",kind = \"bar\" , figsize = (10,7))"
      ],
      "execution_count": 285,
      "outputs": [
        {
          "output_type": "stream",
          "name": "stdout",
          "text": [
            "****************************************************************************\n",
            "*************Which sport is having most number of medals so far*************\n",
            "          Sport  Medal\n",
            "0     Aquatics   4170\n",
            "1    Athletics   3638\n",
            "17      Rowing   2667\n",
            "4   Gymnastics   2307\n",
            "3      Fencing   1613\n",
            "****************************************************************************\n"
          ]
        },
        {
          "output_type": "execute_result",
          "data": {
            "text/plain": [
              "<matplotlib.axes._subplots.AxesSubplot at 0x7fa39cd465d0>"
            ]
          },
          "metadata": {},
          "execution_count": 285
        },
        {
          "output_type": "display_data",
          "data": {
            "image/png": "[encoded data removed]",
            "text/plain": [
              "<Figure size 720x504 with 1 Axes>"
            ]
          },
          "metadata": {
            "needs_background": "light"
          }
        }
      ]
    },
    {
      "cell_type": "markdown",
      "metadata": {
        "id": "5-YF-lk5NFKt"
      },
      "source": [
        "**4. Which player has won most number of medals? (Top 5)**"
      ]
    },
    {
      "cell_type": "code",
      "metadata": {
        "colab": {
          "base_uri": "https://localhost:8080/",
          "height": 718
        },
        "id": "HqZOlUmRgZJ-",
        "outputId": "839a7991-df73-4cf5-a14d-23d853ad5895"
      },
      "source": [
        "data = []\n",
        "for Medal in df[\"Athlete\"].unique():\n",
        "  data.append((Medal , len(df[df[\"Athlete\"] == Medal ])))\n",
        "data = pd.DataFrame(data,columns = [\"Athlete\",\"Medal\"])\n",
        "data = data.sort_values(by = \"Medal\",ascending = False).head()\n",
        "print(\"********************************************************************\")\n",
        "print(\"*************Which player has won most number of medals*************\\n\",data)\n",
        "print(\"********************************************************************\")\n",
        "data.plot(x = \"Athlete\",y = \"Medal\",kind = \"bar\" , figsize = (10,7))"
      ],
      "execution_count": 284,
      "outputs": [
        {
          "output_type": "stream",
          "name": "stdout",
          "text": [
            "********************************************************************\n",
            "*************Which player has won most number of medals************* \n",
            "                     Athlete  Medal\n",
            "18640       PHELPS, Michael     22\n",
            "7197       LATYNINA, Larisa     18\n",
            "9948     ANDRIANOV, Nikolay     15\n",
            "6591           ONO, Takashi     13\n",
            "5103   MANGIAROTTI, Edoardo     13\n",
            "********************************************************************\n"
          ]
        },
        {
          "output_type": "execute_result",
          "data": {
            "text/plain": [
              "<matplotlib.axes._subplots.AxesSubplot at 0x7fa39cf52cd0>"
            ]
          },
          "metadata": {},
          "execution_count": 284
        },
        {
          "output_type": "display_data",
          "data": {
            "image/png": "[encoded data removed]",
            "text/plain": [
              "<Figure size 720x504 with 1 Axes>"
            ]
          },
          "metadata": {
            "needs_background": "light"
          }
        }
      ]
    },
    {
      "cell_type": "markdown",
      "metadata": {
        "id": "X758dVnsNZB_"
      },
      "source": [
        "**5. Which player has won most number Gold Medals of medals? (Top 5)**"
      ]
    },
    {
      "cell_type": "code",
      "metadata": {
        "id": "5lydI1D9NeDN",
        "colab": {
          "base_uri": "https://localhost:8080/",
          "height": 718
        },
        "outputId": "78ff67ee-db62-4f3f-aae1-6daf12c5b8ed"
      },
      "source": [
        "data = []\n",
        "for Medal in df[\"Athlete\"].unique():\n",
        "  data.append((Medal , len(df[df[\"Athlete\"] == Medal ][df[\"Medal\"] == \"Gold\"])))\n",
        "data = pd.DataFrame(data,columns = [\"Athlete\",\"Medal\"])\n",
        "data = data.sort_values(by = \"Medal\",ascending = False).head()\n",
        "print(\"********************************************************************************\")\n",
        "print(\"*************Which player has won most number Gold Medals of medals*************\\n\",data)\n",
        "print(\"********************************************************************************\")\n",
        "data.plot(x = \"Athlete\",y = \"Medal\",kind = \"bar\" , figsize = (10,7))"
      ],
      "execution_count": 282,
      "outputs": [
        {
          "output_type": "stream",
          "name": "stderr",
          "text": [
            "/usr/local/lib/python3.7/dist-packages/ipykernel_launcher.py:3: UserWarning: Boolean Series key will be reindexed to match DataFrame index.\n",
            "  This is separate from the ipykernel package so we can avoid doing imports until\n"
          ]
        },
        {
          "output_type": "stream",
          "name": "stdout",
          "text": [
            "********************************************************************************\n",
            "*************Which player has won most number Gold Medals of medals************* \n",
            "                 Athlete  Medal\n",
            "18640   PHELPS, Michael     18\n",
            "12468       LEWIS, Carl      9\n",
            "8811        SPITZ, Mark      9\n",
            "2262       NURMI, Paavo      9\n",
            "7197   LATYNINA, Larisa      9\n",
            "********************************************************************************\n"
          ]
        },
        {
          "output_type": "execute_result",
          "data": {
            "text/plain": [
              "<matplotlib.axes._subplots.AxesSubplot at 0x7fa39cf13bd0>"
            ]
          },
          "metadata": {},
          "execution_count": 282
        },
        {
          "output_type": "display_data",
          "data": {
            "image/png": "[encoded data removed]",
            "text/plain": [
              "<Figure size 720x504 with 1 Axes>"
            ]
          },
          "metadata": {
            "needs_background": "light"
          }
        }
      ]
    },
    {
      "cell_type": "markdown",
      "metadata": {
        "id": "MBMFFksnNkCl"
      },
      "source": [
        "**6. In which year India won first Gold Medal in Summer Olympics?**"
      ]
    },
    {
      "cell_type": "code",
      "metadata": {
        "colab": {
          "base_uri": "https://localhost:8080/"
        },
        "id": "6KtC9L4mpGE0",
        "outputId": "03303c1a-9169-4510-ba78-4290448fe007"
      },
      "source": [
        "India_olympics = df[(df.Country ==\"IND\") & (df.Medal == \"Gold\")]\n",
        "print(India_olympics.head(1))\n",
        "year = India_olympics.iloc[0][0]\n",
        "print(\"*********************************************************************\")\n",
        "print(\"In which year India won first Gold Medal in Summer Olympics : \",year)\n",
        "print(\"*********************************************************************\")"
      ],
      "execution_count": 287,
      "outputs": [
        {
          "output_type": "stream",
          "name": "stdout",
          "text": [
            "      Year       City   Sport Discipline  ... Country Gender   Event Medal\n",
            "5512  1928  Amsterdam  Hockey     Hockey  ...     IND    Men  Hockey  Gold\n",
            "\n",
            "[1 rows x 9 columns]\n",
            "*********************************************************************\n",
            "In which year India won first Gold Medal in Summer Olympics :  1928\n",
            "*********************************************************************\n"
          ]
        }
      ]
    },
    {
      "cell_type": "markdown",
      "metadata": {
        "id": "WvcEjL65NqvX"
      },
      "source": [
        "**7. Which event is most popular in terms on number of players? (Top 5)**"
      ]
    },
    {
      "cell_type": "code",
      "metadata": {
        "id": "GRJrsekTN6ed",
        "colab": {
          "base_uri": "https://localhost:8080/",
          "height": 690
        },
        "outputId": "4899aaae-ac43-4c08-fc2a-c3af35becf1e"
      },
      "source": [
        "data = []\n",
        "for Medal in df[\"Event\"].unique():\n",
        "  data.append((Medal , len(df[df[\"Event\"] == Medal ])))\n",
        "data = pd.DataFrame(data,columns = [\"Event\",\"Athlete\"])\n",
        "data = data.sort_values(by = \"Athlete\",ascending = False).head()\n",
        "print(\"***********************************************************************************\")\n",
        "print(\"*************Which event is most popular in terms on number of players*************\\n\",data)\n",
        "print(\"***********************************************************************************\")\n",
        "data.plot(x = \"Event\",y = \"Athlete\",kind = \"bar\" , figsize = (10,7))"
      ],
      "execution_count": 281,
      "outputs": [
        {
          "output_type": "stream",
          "name": "stdout",
          "text": [
            "***********************************************************************************\n",
            "*************Which event is most popular in terms on number of players************* \n",
            "                 Event  Athlete\n",
            "80           Football     1497\n",
            "176            Hockey     1422\n",
            "138  Team Competition     1147\n",
            "327        Basketball     1012\n",
            "337          Handball      973\n",
            "***********************************************************************************\n"
          ]
        },
        {
          "output_type": "execute_result",
          "data": {
            "text/plain": [
              "<matplotlib.axes._subplots.AxesSubplot at 0x7fa39cea5710>"
            ]
          },
          "metadata": {},
          "execution_count": 281
        },
        {
          "output_type": "display_data",
          "data": {
            "image/png": "[encoded data removed]",
            "text/plain": [
              "<Figure size 720x504 with 1 Axes>"
            ]
          },
          "metadata": {
            "needs_background": "light"
          }
        }
      ]
    },
    {
      "cell_type": "markdown",
      "metadata": {
        "id": "iB4Sao6sN64-"
      },
      "source": [
        "**8. Which sport is having most female Gold Medalists? (Top 5)**"
      ]
    },
    {
      "cell_type": "code",
      "metadata": {
        "id": "QstGJWXfONPX",
        "colab": {
          "base_uri": "https://localhost:8080/",
          "height": 659
        },
        "outputId": "3ff65859-2100-4b01-be7d-e25396badf60"
      },
      "source": [
        "womenInOlympics = df[(df.Gender == 'Women') & (df.Medal == 'Gold')]\n",
        "data = []\n",
        "for sport in womenInOlympics['Sport'].unique():\n",
        "    data.append([sport,len(womenInOlympics[womenInOlympics['Sport'] == sport])])\n",
        "data=pd.DataFrame(data, columns=['Sport','No. of female gold medalists']) \n",
        "data=data.sort_values(by = 'No. of female gold medalists', ascending = False).head()\n",
        "print(\"***************************************************************************\")\n",
        "print(\"*************Which sport is having most female Gold Medalists*************\\n\",data)\n",
        "print(\"***************************************************************************\")\n",
        "data.plot(x = 'Sport',y = 'No. of female gold medalists',kind = 'bar',figsize = (10,7))\n",
        "\n"
      ],
      "execution_count": 292,
      "outputs": [
        {
          "output_type": "stream",
          "name": "stdout",
          "text": [
            "***************************************************************************\n",
            "*************Which sport is having most female Gold Medalists*************\n",
            "          Sport  No. of female gold medalists\n",
            "4     Aquatics                           589\n",
            "7    Athletics                           389\n",
            "8   Gymnastics                           268\n",
            "14      Rowing                           217\n",
            "11  Volleyball                           166\n",
            "***************************************************************************\n"
          ]
        },
        {
          "output_type": "execute_result",
          "data": {
            "text/plain": [
              "<matplotlib.axes._subplots.AxesSubplot at 0x7fa39cc9ad10>"
            ]
          },
          "metadata": {},
          "execution_count": 292
        },
        {
          "output_type": "display_data",
          "data": {
            "image/png": "[encoded data removed]",
            "text/plain": [
              "<Figure size 720x504 with 1 Axes>"
            ]
          },
          "metadata": {
            "needs_background": "light"
          }
        }
      ]
    }
  ]
}